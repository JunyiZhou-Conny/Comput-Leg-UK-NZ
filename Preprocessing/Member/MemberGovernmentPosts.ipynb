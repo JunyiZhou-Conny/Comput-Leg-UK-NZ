{
 "cells": [
  {
   "cell_type": "code",
   "execution_count": 1,
   "metadata": {},
   "outputs": [],
   "source": [
    "import boto3\n",
    "import pandas as pd\n",
    "import numpy as np"
   ]
  },
  {
   "cell_type": "code",
   "execution_count": 2,
   "metadata": {},
   "outputs": [],
   "source": [
    "def download_file_from_s3(bucket, object_name, local_file_name):\n",
    "    \"\"\"\n",
    "    Download a file from S3 to the local file system.\n",
    "\n",
    "    :param bucket: Name of the S3 bucket\n",
    "    :param object_name: S3 object name\n",
    "    :param local_file_name: Local file name to save the downloaded file\n",
    "    \"\"\"\n",
    "    # # When using IAM roles, boto3 retrieves credentials from the instance metadata\n",
    "    # s3_client = boto3.client('s3')\n",
    "\n",
    "    #When setting up credentials locally, use the following code\n",
    "    session = boto3.Session()\n",
    "    s3_client = session.client('s3')\n",
    "\n",
    "    s3_client.download_file(bucket, object_name, local_file_name)\n",
    "\n",
    "bucket_name = 'myukdata'\n",
    "s3_file_name = 'Original/Member/Member_GovernmentPosts.csv'\n",
    "local_file = 'Member_GovernmentPosts.csv'\n",
    "\n",
    "download_file_from_s3(bucket_name, s3_file_name, local_file)"
   ]
  },
  {
   "cell_type": "code",
   "execution_count": 3,
   "metadata": {},
   "outputs": [
    {
     "name": "stdout",
     "output_type": "stream",
     "text": [
      "<class 'pandas.core.frame.DataFrame'>\n",
      "RangeIndex: 3626 entries, 0 to 3625\n",
      "Data columns (total 8 columns):\n",
      " #   Column              Non-Null Count  Dtype  \n",
      "---  ------              --------------  -----  \n",
      " 0   memberID            3626 non-null   int64  \n",
      " 1   house               3579 non-null   float64\n",
      " 2   name                3626 non-null   object \n",
      " 3   id                  3626 non-null   int64  \n",
      " 4   startDate           3626 non-null   object \n",
      " 5   endDate             3483 non-null   object \n",
      " 6   additionalInfo      3617 non-null   object \n",
      " 7   additionalInfoLink  2705 non-null   object \n",
      "dtypes: float64(1), int64(2), object(5)\n",
      "memory usage: 226.8+ KB\n"
     ]
    },
    {
     "data": {
      "text/html": [
       "<div>\n",
       "<style scoped>\n",
       "    .dataframe tbody tr th:only-of-type {\n",
       "        vertical-align: middle;\n",
       "    }\n",
       "\n",
       "    .dataframe tbody tr th {\n",
       "        vertical-align: top;\n",
       "    }\n",
       "\n",
       "    .dataframe thead th {\n",
       "        text-align: right;\n",
       "    }\n",
       "</style>\n",
       "<table border=\"1\" class=\"dataframe\">\n",
       "  <thead>\n",
       "    <tr style=\"text-align: right;\">\n",
       "      <th></th>\n",
       "      <th>memberID</th>\n",
       "      <th>house</th>\n",
       "      <th>name</th>\n",
       "      <th>id</th>\n",
       "      <th>startDate</th>\n",
       "      <th>endDate</th>\n",
       "      <th>additionalInfo</th>\n",
       "      <th>additionalInfoLink</th>\n",
       "    </tr>\n",
       "  </thead>\n",
       "  <tbody>\n",
       "    <tr>\n",
       "      <th>0</th>\n",
       "      <td>3</td>\n",
       "      <td>1.0</td>\n",
       "      <td>Assistant Whip (HM Treasury)</td>\n",
       "      <td>351</td>\n",
       "      <td>2003-06-13T00:00:00</td>\n",
       "      <td>2005-05-10T00:00:00</td>\n",
       "      <td>HM Treasury</td>\n",
       "      <td>https://www.gov.uk/government/organisations/hm...</td>\n",
       "    </tr>\n",
       "    <tr>\n",
       "      <th>1</th>\n",
       "      <td>5</td>\n",
       "      <td>1.0</td>\n",
       "      <td>Attorney General (Law Officers)</td>\n",
       "      <td>433</td>\n",
       "      <td>1992-04-10T00:00:00</td>\n",
       "      <td>1997-05-01T00:00:00</td>\n",
       "      <td>Law Officers</td>\n",
       "      <td>http://www.attorneygeneral.gov.uk/</td>\n",
       "    </tr>\n",
       "    <tr>\n",
       "      <th>2</th>\n",
       "      <td>5</td>\n",
       "      <td>1.0</td>\n",
       "      <td>Solicitor General (Law Officers)</td>\n",
       "      <td>434</td>\n",
       "      <td>1987-06-15T00:00:00</td>\n",
       "      <td>1992-04-10T00:00:00</td>\n",
       "      <td>Law Officers</td>\n",
       "      <td>http://www.attorneygeneral.gov.uk/</td>\n",
       "    </tr>\n",
       "    <tr>\n",
       "      <th>3</th>\n",
       "      <td>5</td>\n",
       "      <td>1.0</td>\n",
       "      <td>Parliamentary Under-Secretary (Department of H...</td>\n",
       "      <td>406</td>\n",
       "      <td>1986-09-10T00:00:00</td>\n",
       "      <td>1987-06-13T00:00:00</td>\n",
       "      <td>Department of Health and Social Security</td>\n",
       "      <td>NaN</td>\n",
       "    </tr>\n",
       "    <tr>\n",
       "      <th>4</th>\n",
       "      <td>7</td>\n",
       "      <td>1.0</td>\n",
       "      <td>Deputy Chief Whip and Treasurer</td>\n",
       "      <td>48</td>\n",
       "      <td>1996-07-23T00:00:00</td>\n",
       "      <td>1997-05-01T00:00:00</td>\n",
       "      <td>HM Household</td>\n",
       "      <td>NaN</td>\n",
       "    </tr>\n",
       "  </tbody>\n",
       "</table>\n",
       "</div>"
      ],
      "text/plain": [
       "   memberID  house                                               name   id  \\\n",
       "0         3    1.0                       Assistant Whip (HM Treasury)  351   \n",
       "1         5    1.0                    Attorney General (Law Officers)  433   \n",
       "2         5    1.0                   Solicitor General (Law Officers)  434   \n",
       "3         5    1.0  Parliamentary Under-Secretary (Department of H...  406   \n",
       "4         7    1.0                    Deputy Chief Whip and Treasurer   48   \n",
       "\n",
       "             startDate              endDate  \\\n",
       "0  2003-06-13T00:00:00  2005-05-10T00:00:00   \n",
       "1  1992-04-10T00:00:00  1997-05-01T00:00:00   \n",
       "2  1987-06-15T00:00:00  1992-04-10T00:00:00   \n",
       "3  1986-09-10T00:00:00  1987-06-13T00:00:00   \n",
       "4  1996-07-23T00:00:00  1997-05-01T00:00:00   \n",
       "\n",
       "                             additionalInfo  \\\n",
       "0                               HM Treasury   \n",
       "1                              Law Officers   \n",
       "2                              Law Officers   \n",
       "3  Department of Health and Social Security   \n",
       "4                              HM Household   \n",
       "\n",
       "                                  additionalInfoLink  \n",
       "0  https://www.gov.uk/government/organisations/hm...  \n",
       "1                 http://www.attorneygeneral.gov.uk/  \n",
       "2                 http://www.attorneygeneral.gov.uk/  \n",
       "3                                                NaN  \n",
       "4                                                NaN  "
      ]
     },
     "execution_count": 3,
     "metadata": {},
     "output_type": "execute_result"
    }
   ],
   "source": [
    "df = pd.read_csv('Member_GovernmentPosts.csv')\n",
    "df.info()\n",
    "pd.set_option('display.max_rows', None)\n",
    "df.head()"
   ]
  },
  {
   "cell_type": "code",
   "execution_count": 4,
   "metadata": {},
   "outputs": [],
   "source": [
    "df.drop(columns=['additionalInfo',\n",
    "                 'additionalInfoLink',\n",
    "                 'house',\n",
    "                 'id'], inplace=True)\n",
    "\n",
    "df.rename(columns={'memberID': 'memberId',\n",
    "                     'name': 'postName'}, inplace=True)\n",
    "df['startDate'] = pd.to_datetime(df['startDate'])\n",
    "df['endDate'] = pd.to_datetime(df['endDate'])"
   ]
  },
  {
   "cell_type": "code",
   "execution_count": 5,
   "metadata": {},
   "outputs": [
    {
     "name": "stdout",
     "output_type": "stream",
     "text": [
      "<class 'pandas.core.frame.DataFrame'>\n",
      "RangeIndex: 3626 entries, 0 to 3625\n",
      "Data columns (total 4 columns):\n",
      " #   Column     Non-Null Count  Dtype         \n",
      "---  ------     --------------  -----         \n",
      " 0   memberId   3626 non-null   int64         \n",
      " 1   postName   3626 non-null   object        \n",
      " 2   startDate  3626 non-null   datetime64[ns]\n",
      " 3   endDate    3483 non-null   datetime64[ns]\n",
      "dtypes: datetime64[ns](2), int64(1), object(1)\n",
      "memory usage: 113.4+ KB\n"
     ]
    }
   ],
   "source": [
    "df.info()"
   ]
  },
  {
   "cell_type": "code",
   "execution_count": 6,
   "metadata": {},
   "outputs": [
    {
     "data": {
      "text/plain": [
       "True"
      ]
     },
     "execution_count": 6,
     "metadata": {},
     "output_type": "execute_result"
    }
   ],
   "source": [
    "#Save the file to S3\n",
    "import boto3\n",
    "import io\n",
    "\n",
    "def upload_df_to_s3(df, bucket, object_name):\n",
    "    \"\"\"\n",
    "    Upload a DataFrame to an S3 bucket as CSV.\n",
    "\n",
    "    :param df: DataFrame to upload\n",
    "    :param bucket: Bucket to upload to\n",
    "    :param object_name: S3 object name\n",
    "    :return: True if the DataFrame was uploaded, else False\n",
    "    \"\"\"\n",
    "    # Create a buffer\n",
    "    csv_buffer = io.StringIO()\n",
    "    df.to_csv(csv_buffer, index=False)\n",
    "\n",
    "    # Move to the start of the buffer\n",
    "    csv_buffer.seek(0)\n",
    "\n",
    "    # Upload the buffer content to S3\n",
    "    s3_client = boto3.client('s3')\n",
    "    try:\n",
    "        s3_client.put_object(Bucket=bucket, Key=object_name, Body=csv_buffer.getvalue())\n",
    "    except ClientError as e:\n",
    "        logging.error(e)\n",
    "        return False\n",
    "    return True\n",
    "\n",
    "bucket_name = 'myukdata'\n",
    "object_name = 'Preprocessing/Member/MemberGovernmentPosts.csv'\n",
    "upload_df_to_s3(df, bucket_name, object_name)\n"
   ]
  }
 ],
 "metadata": {
  "kernelspec": {
   "display_name": "Python 3",
   "language": "python",
   "name": "python3"
  },
  "language_info": {
   "codemirror_mode": {
    "name": "ipython",
    "version": 3
   },
   "file_extension": ".py",
   "mimetype": "text/x-python",
   "name": "python",
   "nbconvert_exporter": "python",
   "pygments_lexer": "ipython3",
   "version": "3.11.1"
  }
 },
 "nbformat": 4,
 "nbformat_minor": 2
}
