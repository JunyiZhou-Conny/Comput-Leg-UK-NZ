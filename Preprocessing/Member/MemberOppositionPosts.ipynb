{
 "cells": [
  {
   "cell_type": "code",
   "execution_count": 1,
   "metadata": {},
   "outputs": [],
   "source": [
    "import boto3\n",
    "import pandas as pd\n",
    "import numpy as np"
   ]
  },
  {
   "cell_type": "code",
   "execution_count": 2,
   "metadata": {},
   "outputs": [],
   "source": [
    "def download_file_from_s3(bucket, object_name, local_file_name):\n",
    "    \"\"\"\n",
    "    Download a file from S3 to the local file system.\n",
    "\n",
    "    :param bucket: Name of the S3 bucket\n",
    "    :param object_name: S3 object name\n",
    "    :param local_file_name: Local file name to save the downloaded file\n",
    "    \"\"\"\n",
    "    # # When using IAM roles, boto3 retrieves credentials from the instance metadata\n",
    "    # s3_client = boto3.client('s3')\n",
    "\n",
    "    #When setting up credentials locally, use the following code\n",
    "    session = boto3.Session()\n",
    "    s3_client = session.client('s3')\n",
    "\n",
    "    s3_client.download_file(bucket, object_name, local_file_name)\n",
    "\n",
    "bucket_name = 'myukdata'\n",
    "s3_file_name = 'Original/Member/Member_OppositionPosts.csv'\n",
    "local_file = 'Member_OppositionPosts.csv'\n",
    "\n",
    "download_file_from_s3(bucket_name, s3_file_name, local_file)"
   ]
  },
  {
   "cell_type": "code",
   "execution_count": 3,
   "metadata": {},
   "outputs": [
    {
     "name": "stdout",
     "output_type": "stream",
     "text": [
      "<class 'pandas.core.frame.DataFrame'>\n",
      "RangeIndex: 2971 entries, 0 to 2970\n",
      "Data columns (total 8 columns):\n",
      " #   Column              Non-Null Count  Dtype  \n",
      "---  ------              --------------  -----  \n",
      " 0   memberID            2971 non-null   int64  \n",
      " 1   house               2940 non-null   float64\n",
      " 2   name                2971 non-null   object \n",
      " 3   id                  2971 non-null   int64  \n",
      " 4   startDate           2971 non-null   object \n",
      " 5   endDate             2685 non-null   object \n",
      " 6   additionalInfo      2914 non-null   object \n",
      " 7   additionalInfoLink  1769 non-null   object \n",
      "dtypes: float64(1), int64(2), object(5)\n",
      "memory usage: 185.8+ KB\n"
     ]
    },
    {
     "data": {
      "text/html": [
       "<div>\n",
       "<style scoped>\n",
       "    .dataframe tbody tr th:only-of-type {\n",
       "        vertical-align: middle;\n",
       "    }\n",
       "\n",
       "    .dataframe tbody tr th {\n",
       "        vertical-align: top;\n",
       "    }\n",
       "\n",
       "    .dataframe thead th {\n",
       "        text-align: right;\n",
       "    }\n",
       "</style>\n",
       "<table border=\"1\" class=\"dataframe\">\n",
       "  <thead>\n",
       "    <tr style=\"text-align: right;\">\n",
       "      <th></th>\n",
       "      <th>memberID</th>\n",
       "      <th>house</th>\n",
       "      <th>name</th>\n",
       "      <th>id</th>\n",
       "      <th>startDate</th>\n",
       "      <th>endDate</th>\n",
       "      <th>additionalInfo</th>\n",
       "      <th>additionalInfoLink</th>\n",
       "    </tr>\n",
       "  </thead>\n",
       "  <tbody>\n",
       "    <tr>\n",
       "      <th>0</th>\n",
       "      <td>2</td>\n",
       "      <td>1.0</td>\n",
       "      <td>Shadow Secretary of State for Culture, Media a...</td>\n",
       "      <td>1186</td>\n",
       "      <td>2016-07-05T00:00:00</td>\n",
       "      <td>2016-10-07T00:00:00</td>\n",
       "      <td>Department for Culture, Media and Sport</td>\n",
       "      <td>https://www.gov.uk/government/organisations/de...</td>\n",
       "    </tr>\n",
       "    <tr>\n",
       "      <th>1</th>\n",
       "      <td>5</td>\n",
       "      <td>1.0</td>\n",
       "      <td>Shadow Attorney General</td>\n",
       "      <td>11</td>\n",
       "      <td>1997-06-11T00:00:00</td>\n",
       "      <td>1999-06-15T00:00:00</td>\n",
       "      <td>Attorney General's Office</td>\n",
       "      <td>https://www.gov.uk/government/organisations/at...</td>\n",
       "    </tr>\n",
       "    <tr>\n",
       "      <th>2</th>\n",
       "      <td>7</td>\n",
       "      <td>1.0</td>\n",
       "      <td>Shadow Minister without Portfolio</td>\n",
       "      <td>17</td>\n",
       "      <td>2005-06-30T00:00:00</td>\n",
       "      <td>2009-05-14T00:00:00</td>\n",
       "      <td>HM Official Opposition</td>\n",
       "      <td>NaN</td>\n",
       "    </tr>\n",
       "    <tr>\n",
       "      <th>3</th>\n",
       "      <td>7</td>\n",
       "      <td>1.0</td>\n",
       "      <td>Shadow Secretary of State for Northern Ireland</td>\n",
       "      <td>873</td>\n",
       "      <td>1997-06-11T00:00:00</td>\n",
       "      <td>2001-06-07T00:00:00</td>\n",
       "      <td>Northern Ireland Office</td>\n",
       "      <td>https://www.gov.uk/government/organisations/no...</td>\n",
       "    </tr>\n",
       "    <tr>\n",
       "      <th>4</th>\n",
       "      <td>8</td>\n",
       "      <td>1.0</td>\n",
       "      <td>Shadow Secretary of State for Work and Pensions</td>\n",
       "      <td>866</td>\n",
       "      <td>2009-01-19T00:00:00</td>\n",
       "      <td>2010-05-06T00:00:00</td>\n",
       "      <td>Department for Work and Pensions</td>\n",
       "      <td>https://www.gov.uk/government/organisations/de...</td>\n",
       "    </tr>\n",
       "  </tbody>\n",
       "</table>\n",
       "</div>"
      ],
      "text/plain": [
       "   memberID  house                                               name    id  \\\n",
       "0         2    1.0  Shadow Secretary of State for Culture, Media a...  1186   \n",
       "1         5    1.0                            Shadow Attorney General    11   \n",
       "2         7    1.0                  Shadow Minister without Portfolio    17   \n",
       "3         7    1.0     Shadow Secretary of State for Northern Ireland   873   \n",
       "4         8    1.0    Shadow Secretary of State for Work and Pensions   866   \n",
       "\n",
       "             startDate              endDate  \\\n",
       "0  2016-07-05T00:00:00  2016-10-07T00:00:00   \n",
       "1  1997-06-11T00:00:00  1999-06-15T00:00:00   \n",
       "2  2005-06-30T00:00:00  2009-05-14T00:00:00   \n",
       "3  1997-06-11T00:00:00  2001-06-07T00:00:00   \n",
       "4  2009-01-19T00:00:00  2010-05-06T00:00:00   \n",
       "\n",
       "                            additionalInfo  \\\n",
       "0  Department for Culture, Media and Sport   \n",
       "1                Attorney General's Office   \n",
       "2                   HM Official Opposition   \n",
       "3                  Northern Ireland Office   \n",
       "4         Department for Work and Pensions   \n",
       "\n",
       "                                  additionalInfoLink  \n",
       "0  https://www.gov.uk/government/organisations/de...  \n",
       "1  https://www.gov.uk/government/organisations/at...  \n",
       "2                                                NaN  \n",
       "3  https://www.gov.uk/government/organisations/no...  \n",
       "4  https://www.gov.uk/government/organisations/de...  "
      ]
     },
     "execution_count": 3,
     "metadata": {},
     "output_type": "execute_result"
    }
   ],
   "source": [
    "df = pd.read_csv('Member_OppositionPosts.csv')\n",
    "df.info()\n",
    "pd.set_option('display.max_rows', None)\n",
    "df.head()"
   ]
  },
  {
   "cell_type": "code",
   "execution_count": 4,
   "metadata": {},
   "outputs": [],
   "source": [
    "df.drop(columns=['additionalInfo',\n",
    "                 'additionalInfoLink',\n",
    "                 'house',\n",
    "                 'id'], inplace=True)\n",
    "\n",
    "df.rename(columns={'memberID': 'memberId',\n",
    "                     'name': 'oppositionName'}, inplace=True)\n",
    "df['startDate'] = pd.to_datetime(df['startDate'])\n",
    "df['endDate'] = pd.to_datetime(df['endDate'])"
   ]
  },
  {
   "cell_type": "code",
   "execution_count": 5,
   "metadata": {},
   "outputs": [
    {
     "name": "stdout",
     "output_type": "stream",
     "text": [
      "<class 'pandas.core.frame.DataFrame'>\n",
      "RangeIndex: 2971 entries, 0 to 2970\n",
      "Data columns (total 4 columns):\n",
      " #   Column          Non-Null Count  Dtype         \n",
      "---  ------          --------------  -----         \n",
      " 0   memberId        2971 non-null   int64         \n",
      " 1   oppositionName  2971 non-null   object        \n",
      " 2   startDate       2971 non-null   datetime64[ns]\n",
      " 3   endDate         2685 non-null   datetime64[ns]\n",
      "dtypes: datetime64[ns](2), int64(1), object(1)\n",
      "memory usage: 93.0+ KB\n"
     ]
    }
   ],
   "source": [
    "df.info()"
   ]
  },
  {
   "cell_type": "code",
   "execution_count": 6,
   "metadata": {},
   "outputs": [
    {
     "data": {
      "text/plain": [
       "True"
      ]
     },
     "execution_count": 6,
     "metadata": {},
     "output_type": "execute_result"
    }
   ],
   "source": [
    "#Save the file to S3\n",
    "import boto3\n",
    "import io\n",
    "\n",
    "def upload_df_to_s3(df, bucket, object_name):\n",
    "    \"\"\"\n",
    "    Upload a DataFrame to an S3 bucket as CSV.\n",
    "\n",
    "    :param df: DataFrame to upload\n",
    "    :param bucket: Bucket to upload to\n",
    "    :param object_name: S3 object name\n",
    "    :return: True if the DataFrame was uploaded, else False\n",
    "    \"\"\"\n",
    "    # Create a buffer\n",
    "    csv_buffer = io.StringIO()\n",
    "    df.to_csv(csv_buffer, index=False)\n",
    "\n",
    "    # Move to the start of the buffer\n",
    "    csv_buffer.seek(0)\n",
    "\n",
    "    # Upload the buffer content to S3\n",
    "    s3_client = boto3.client('s3')\n",
    "    try:\n",
    "        s3_client.put_object(Bucket=bucket, Key=object_name, Body=csv_buffer.getvalue())\n",
    "    except ClientError as e:\n",
    "        logging.error(e)\n",
    "        return False\n",
    "    return True\n",
    "\n",
    "bucket_name = 'myukdata'\n",
    "object_name = 'Preprocessing/Member/MemberOppositionPosts.csv'\n",
    "upload_df_to_s3(df, bucket_name, object_name)\n"
   ]
  }
 ],
 "metadata": {
  "kernelspec": {
   "display_name": "Python 3",
   "language": "python",
   "name": "python3"
  },
  "language_info": {
   "codemirror_mode": {
    "name": "ipython",
    "version": 3
   },
   "file_extension": ".py",
   "mimetype": "text/x-python",
   "name": "python",
   "nbconvert_exporter": "python",
   "pygments_lexer": "ipython3",
   "version": "3.11.1"
  }
 },
 "nbformat": 4,
 "nbformat_minor": 2
}
