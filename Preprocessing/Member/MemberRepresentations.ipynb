{
 "cells": [
  {
   "cell_type": "code",
   "execution_count": 1,
   "metadata": {},
   "outputs": [],
   "source": [
    "import boto3\n",
    "import pandas as pd\n",
    "import numpy as np"
   ]
  },
  {
   "cell_type": "code",
   "execution_count": 2,
   "metadata": {},
   "outputs": [],
   "source": [
    "def download_file_from_s3(bucket, object_name, local_file_name):\n",
    "    \"\"\"\n",
    "    Download a file from S3 to the local file system.\n",
    "\n",
    "    :param bucket: Name of the S3 bucket\n",
    "    :param object_name: S3 object name\n",
    "    :param local_file_name: Local file name to save the downloaded file\n",
    "    \"\"\"\n",
    "    # # When using IAM roles, boto3 retrieves credentials from the instance metadata\n",
    "    # s3_client = boto3.client('s3')\n",
    "\n",
    "    #When setting up credentials locally, use the following code\n",
    "    session = boto3.Session()\n",
    "    s3_client = session.client('s3')\n",
    "\n",
    "    s3_client.download_file(bucket, object_name, local_file_name)\n",
    "\n",
    "bucket_name = 'myukdata'\n",
    "s3_file_name = 'Original/Member/Member_Representations.csv'\n",
    "local_file = 'Member_Representations.csv'\n",
    "\n",
    "download_file_from_s3(bucket_name, s3_file_name, local_file)"
   ]
  },
  {
   "cell_type": "code",
   "execution_count": 3,
   "metadata": {},
   "outputs": [
    {
     "name": "stdout",
     "output_type": "stream",
     "text": [
      "<class 'pandas.core.frame.DataFrame'>\n",
      "RangeIndex: 3050 entries, 0 to 3049\n",
      "Data columns (total 8 columns):\n",
      " #   Column              Non-Null Count  Dtype  \n",
      "---  ------              --------------  -----  \n",
      " 0   memberID            3050 non-null   int64  \n",
      " 1   house               3050 non-null   int64  \n",
      " 2   name                3050 non-null   object \n",
      " 3   id                  3050 non-null   int64  \n",
      " 4   startDate           3050 non-null   object \n",
      " 5   endDate             2400 non-null   object \n",
      " 6   additionalInfo      3050 non-null   object \n",
      " 7   additionalInfoLink  0 non-null      float64\n",
      "dtypes: float64(1), int64(3), object(4)\n",
      "memory usage: 190.8+ KB\n"
     ]
    },
    {
     "data": {
      "text/html": [
       "<div>\n",
       "<style scoped>\n",
       "    .dataframe tbody tr th:only-of-type {\n",
       "        vertical-align: middle;\n",
       "    }\n",
       "\n",
       "    .dataframe tbody tr th {\n",
       "        vertical-align: top;\n",
       "    }\n",
       "\n",
       "    .dataframe thead th {\n",
       "        text-align: right;\n",
       "    }\n",
       "</style>\n",
       "<table border=\"1\" class=\"dataframe\">\n",
       "  <thead>\n",
       "    <tr style=\"text-align: right;\">\n",
       "      <th></th>\n",
       "      <th>memberID</th>\n",
       "      <th>house</th>\n",
       "      <th>name</th>\n",
       "      <th>id</th>\n",
       "      <th>startDate</th>\n",
       "      <th>endDate</th>\n",
       "      <th>additionalInfo</th>\n",
       "      <th>additionalInfoLink</th>\n",
       "    </tr>\n",
       "  </thead>\n",
       "  <tbody>\n",
       "    <tr>\n",
       "      <th>0</th>\n",
       "      <td>1</td>\n",
       "      <td>1</td>\n",
       "      <td>Bedford</td>\n",
       "      <td>185</td>\n",
       "      <td>1997-05-01T00:00:00</td>\n",
       "      <td>2010-05-06T00:00:00</td>\n",
       "      <td>Elected 3 times</td>\n",
       "      <td>NaN</td>\n",
       "    </tr>\n",
       "    <tr>\n",
       "      <th>1</th>\n",
       "      <td>2</td>\n",
       "      <td>1</td>\n",
       "      <td>Luton North</td>\n",
       "      <td>3589</td>\n",
       "      <td>1997-05-01T00:00:00</td>\n",
       "      <td>2019-11-06T00:00:00</td>\n",
       "      <td>Elected 6 times</td>\n",
       "      <td>NaN</td>\n",
       "    </tr>\n",
       "    <tr>\n",
       "      <th>2</th>\n",
       "      <td>3</td>\n",
       "      <td>1</td>\n",
       "      <td>Luton South</td>\n",
       "      <td>1860</td>\n",
       "      <td>1997-05-01T00:00:00</td>\n",
       "      <td>2010-05-06T00:00:00</td>\n",
       "      <td>Elected 3 times</td>\n",
       "      <td>NaN</td>\n",
       "    </tr>\n",
       "    <tr>\n",
       "      <th>3</th>\n",
       "      <td>4</td>\n",
       "      <td>1</td>\n",
       "      <td>Mid Bedfordshire</td>\n",
       "      <td>1946</td>\n",
       "      <td>1997-05-01T00:00:00</td>\n",
       "      <td>2005-05-05T00:00:00</td>\n",
       "      <td>Elected 2 times</td>\n",
       "      <td>NaN</td>\n",
       "    </tr>\n",
       "    <tr>\n",
       "      <th>4</th>\n",
       "      <td>4</td>\n",
       "      <td>1</td>\n",
       "      <td>Bristol East</td>\n",
       "      <td>463</td>\n",
       "      <td>1983-06-09T00:00:00</td>\n",
       "      <td>1992-04-09T00:00:00</td>\n",
       "      <td>Elected 2 times</td>\n",
       "      <td>NaN</td>\n",
       "    </tr>\n",
       "  </tbody>\n",
       "</table>\n",
       "</div>"
      ],
      "text/plain": [
       "   memberID  house              name    id            startDate  \\\n",
       "0         1      1           Bedford   185  1997-05-01T00:00:00   \n",
       "1         2      1       Luton North  3589  1997-05-01T00:00:00   \n",
       "2         3      1       Luton South  1860  1997-05-01T00:00:00   \n",
       "3         4      1  Mid Bedfordshire  1946  1997-05-01T00:00:00   \n",
       "4         4      1      Bristol East   463  1983-06-09T00:00:00   \n",
       "\n",
       "               endDate   additionalInfo  additionalInfoLink  \n",
       "0  2010-05-06T00:00:00  Elected 3 times                 NaN  \n",
       "1  2019-11-06T00:00:00  Elected 6 times                 NaN  \n",
       "2  2010-05-06T00:00:00  Elected 3 times                 NaN  \n",
       "3  2005-05-05T00:00:00  Elected 2 times                 NaN  \n",
       "4  1992-04-09T00:00:00  Elected 2 times                 NaN  "
      ]
     },
     "execution_count": 3,
     "metadata": {},
     "output_type": "execute_result"
    }
   ],
   "source": [
    "df = pd.read_csv('Member_Representations.csv')\n",
    "df.info()\n",
    "pd.set_option('display.max_rows', None)\n",
    "df.head()"
   ]
  },
  {
   "cell_type": "code",
   "execution_count": 4,
   "metadata": {},
   "outputs": [],
   "source": [
    "df.drop(columns=['additionalInfoLink',\n",
    "                 'house'], inplace=True)\n",
    "\n",
    "df.rename(columns={'memberID': 'memberId',\n",
    "                     'name': 'constituencyName',\n",
    "                     'id':'constituencyId',\n",
    "                     'additionalInfo':'electedTimes'}, inplace=True)\n",
    "df['startDate'] = pd.to_datetime(df['startDate'])\n",
    "df['endDate'] = pd.to_datetime(df['endDate'])"
   ]
  },
  {
   "cell_type": "code",
   "execution_count": 5,
   "metadata": {},
   "outputs": [
    {
     "name": "stdout",
     "output_type": "stream",
     "text": [
      "<class 'pandas.core.frame.DataFrame'>\n",
      "RangeIndex: 3050 entries, 0 to 3049\n",
      "Data columns (total 6 columns):\n",
      " #   Column            Non-Null Count  Dtype         \n",
      "---  ------            --------------  -----         \n",
      " 0   memberId          3050 non-null   int64         \n",
      " 1   constituencyName  3050 non-null   object        \n",
      " 2   constituencyId    3050 non-null   int64         \n",
      " 3   startDate         3050 non-null   datetime64[ns]\n",
      " 4   endDate           2400 non-null   datetime64[ns]\n",
      " 5   electedTimes      3050 non-null   object        \n",
      "dtypes: datetime64[ns](2), int64(2), object(2)\n",
      "memory usage: 143.1+ KB\n"
     ]
    }
   ],
   "source": [
    "df.info()"
   ]
  },
  {
   "cell_type": "code",
   "execution_count": 6,
   "metadata": {},
   "outputs": [
    {
     "data": {
      "text/plain": [
       "True"
      ]
     },
     "execution_count": 6,
     "metadata": {},
     "output_type": "execute_result"
    }
   ],
   "source": [
    "#Save the file to S3\n",
    "import boto3\n",
    "import io\n",
    "\n",
    "def upload_df_to_s3(df, bucket, object_name):\n",
    "    \"\"\"\n",
    "    Upload a DataFrame to an S3 bucket as CSV.\n",
    "\n",
    "    :param df: DataFrame to upload\n",
    "    :param bucket: Bucket to upload to\n",
    "    :param object_name: S3 object name\n",
    "    :return: True if the DataFrame was uploaded, else False\n",
    "    \"\"\"\n",
    "    # Create a buffer\n",
    "    csv_buffer = io.StringIO()\n",
    "    df.to_csv(csv_buffer, index=False)\n",
    "\n",
    "    # Move to the start of the buffer\n",
    "    csv_buffer.seek(0)\n",
    "\n",
    "    # Upload the buffer content to S3\n",
    "    s3_client = boto3.client('s3')\n",
    "    try:\n",
    "        s3_client.put_object(Bucket=bucket, Key=object_name, Body=csv_buffer.getvalue())\n",
    "    except ClientError as e:\n",
    "        logging.error(e)\n",
    "        return False\n",
    "    return True\n",
    "\n",
    "bucket_name = 'myukdata'\n",
    "object_name = 'Preprocessing/Member/MemberRepresentations.csv'\n",
    "upload_df_to_s3(df, bucket_name, object_name)\n"
   ]
  }
 ],
 "metadata": {
  "kernelspec": {
   "display_name": "Python 3",
   "language": "python",
   "name": "python3"
  },
  "language_info": {
   "codemirror_mode": {
    "name": "ipython",
    "version": 3
   },
   "file_extension": ".py",
   "mimetype": "text/x-python",
   "name": "python",
   "nbconvert_exporter": "python",
   "pygments_lexer": "ipython3",
   "version": "3.11.1"
  }
 },
 "nbformat": 4,
 "nbformat_minor": 2
}
