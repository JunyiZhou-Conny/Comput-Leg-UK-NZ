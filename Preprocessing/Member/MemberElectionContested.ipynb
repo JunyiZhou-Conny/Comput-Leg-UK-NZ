{
 "cells": [
  {
   "cell_type": "code",
   "execution_count": 1,
   "metadata": {},
   "outputs": [],
   "source": [
    "import boto3\n",
    "import pandas as pd\n",
    "import numpy as np"
   ]
  },
  {
   "cell_type": "code",
   "execution_count": 2,
   "metadata": {},
   "outputs": [],
   "source": [
    "def download_file_from_s3(bucket, object_name, local_file_name):\n",
    "    \"\"\"\n",
    "    Download a file from S3 to the local file system.\n",
    "\n",
    "    :param bucket: Name of the S3 bucket\n",
    "    :param object_name: S3 object name\n",
    "    :param local_file_name: Local file name to save the downloaded file\n",
    "    \"\"\"\n",
    "    # # When using IAM roles, boto3 retrieves credentials from the instance metadata\n",
    "    # s3_client = boto3.client('s3')\n",
    "\n",
    "    #When setting up credentials locally, use the following code\n",
    "    session = boto3.Session()\n",
    "    s3_client = session.client('s3')\n",
    "\n",
    "    s3_client.download_file(bucket, object_name, local_file_name)\n",
    "\n",
    "bucket_name = 'myukdata'\n",
    "s3_file_name = 'Original/Member/Member_ElectionsContested.csv'\n",
    "local_file = 'Member_ElectionsContested.csv'\n",
    "\n",
    "download_file_from_s3(bucket_name, s3_file_name, local_file)"
   ]
  },
  {
   "cell_type": "code",
   "execution_count": 3,
   "metadata": {},
   "outputs": [
    {
     "name": "stdout",
     "output_type": "stream",
     "text": [
      "<class 'pandas.core.frame.DataFrame'>\n",
      "RangeIndex: 2506 entries, 0 to 2505\n",
      "Data columns (total 8 columns):\n",
      " #   Column              Non-Null Count  Dtype  \n",
      "---  ------              --------------  -----  \n",
      " 0   memberID            2506 non-null   int64  \n",
      " 1   house               2506 non-null   int64  \n",
      " 2   name                2506 non-null   object \n",
      " 3   id                  2506 non-null   int64  \n",
      " 4   startDate           2506 non-null   object \n",
      " 5   endDate             0 non-null      float64\n",
      " 6   additionalInfo      0 non-null      float64\n",
      " 7   additionalInfoLink  0 non-null      float64\n",
      "dtypes: float64(3), int64(3), object(2)\n",
      "memory usage: 156.8+ KB\n"
     ]
    },
    {
     "data": {
      "text/html": [
       "<div>\n",
       "<style scoped>\n",
       "    .dataframe tbody tr th:only-of-type {\n",
       "        vertical-align: middle;\n",
       "    }\n",
       "\n",
       "    .dataframe tbody tr th {\n",
       "        vertical-align: top;\n",
       "    }\n",
       "\n",
       "    .dataframe thead th {\n",
       "        text-align: right;\n",
       "    }\n",
       "</style>\n",
       "<table border=\"1\" class=\"dataframe\">\n",
       "  <thead>\n",
       "    <tr style=\"text-align: right;\">\n",
       "      <th></th>\n",
       "      <th>memberID</th>\n",
       "      <th>house</th>\n",
       "      <th>name</th>\n",
       "      <th>id</th>\n",
       "      <th>startDate</th>\n",
       "      <th>endDate</th>\n",
       "      <th>additionalInfo</th>\n",
       "      <th>additionalInfoLink</th>\n",
       "    </tr>\n",
       "  </thead>\n",
       "  <tbody>\n",
       "    <tr>\n",
       "      <th>0</th>\n",
       "      <td>1</td>\n",
       "      <td>1</td>\n",
       "      <td>North Bedfordshire</td>\n",
       "      <td>2105</td>\n",
       "      <td>1992-04-09T00:00:00</td>\n",
       "      <td>NaN</td>\n",
       "      <td>NaN</td>\n",
       "      <td>NaN</td>\n",
       "    </tr>\n",
       "    <tr>\n",
       "      <th>1</th>\n",
       "      <td>2</td>\n",
       "      <td>1</td>\n",
       "      <td>Luton North</td>\n",
       "      <td>2146</td>\n",
       "      <td>1983-06-09T00:00:00</td>\n",
       "      <td>NaN</td>\n",
       "      <td>NaN</td>\n",
       "      <td>NaN</td>\n",
       "    </tr>\n",
       "    <tr>\n",
       "      <th>2</th>\n",
       "      <td>3</td>\n",
       "      <td>1</td>\n",
       "      <td>Carshalton and Wallington</td>\n",
       "      <td>608</td>\n",
       "      <td>1992-04-09T00:00:00</td>\n",
       "      <td>NaN</td>\n",
       "      <td>NaN</td>\n",
       "      <td>NaN</td>\n",
       "    </tr>\n",
       "    <tr>\n",
       "      <th>3</th>\n",
       "      <td>4</td>\n",
       "      <td>1</td>\n",
       "      <td>Bristol East</td>\n",
       "      <td>463</td>\n",
       "      <td>1992-04-09T00:00:00</td>\n",
       "      <td>NaN</td>\n",
       "      <td>NaN</td>\n",
       "      <td>NaN</td>\n",
       "    </tr>\n",
       "    <tr>\n",
       "      <th>4</th>\n",
       "      <td>5</td>\n",
       "      <td>1</td>\n",
       "      <td>Lambeth Central</td>\n",
       "      <td>1673</td>\n",
       "      <td>1974-10-10T00:00:00</td>\n",
       "      <td>NaN</td>\n",
       "      <td>NaN</td>\n",
       "      <td>NaN</td>\n",
       "    </tr>\n",
       "  </tbody>\n",
       "</table>\n",
       "</div>"
      ],
      "text/plain": [
       "   memberID  house                       name    id            startDate  \\\n",
       "0         1      1         North Bedfordshire  2105  1992-04-09T00:00:00   \n",
       "1         2      1                Luton North  2146  1983-06-09T00:00:00   \n",
       "2         3      1  Carshalton and Wallington   608  1992-04-09T00:00:00   \n",
       "3         4      1               Bristol East   463  1992-04-09T00:00:00   \n",
       "4         5      1            Lambeth Central  1673  1974-10-10T00:00:00   \n",
       "\n",
       "   endDate  additionalInfo  additionalInfoLink  \n",
       "0      NaN             NaN                 NaN  \n",
       "1      NaN             NaN                 NaN  \n",
       "2      NaN             NaN                 NaN  \n",
       "3      NaN             NaN                 NaN  \n",
       "4      NaN             NaN                 NaN  "
      ]
     },
     "execution_count": 3,
     "metadata": {},
     "output_type": "execute_result"
    }
   ],
   "source": [
    "df = pd.read_csv('Member_ElectionsContested.csv')\n",
    "df.info()\n",
    "pd.set_option('display.max_rows', None)\n",
    "df.head()"
   ]
  },
  {
   "cell_type": "code",
   "execution_count": 4,
   "metadata": {},
   "outputs": [],
   "source": [
    "df.drop(columns=['endDate',\n",
    "                 'additionalInfo',\n",
    "                 'additionalInfoLink',\n",
    "                 'house'], inplace=True)\n",
    "\n",
    "df.rename(columns={'memberID': 'memberId',\n",
    "                     'name': 'constituencyName',\n",
    "                     'id':'constituencyId'}, inplace=True)\n",
    "df['startDate'] = pd.to_datetime(df['startDate'])\n"
   ]
  },
  {
   "cell_type": "code",
   "execution_count": 5,
   "metadata": {},
   "outputs": [
    {
     "name": "stdout",
     "output_type": "stream",
     "text": [
      "<class 'pandas.core.frame.DataFrame'>\n",
      "RangeIndex: 2506 entries, 0 to 2505\n",
      "Data columns (total 4 columns):\n",
      " #   Column            Non-Null Count  Dtype         \n",
      "---  ------            --------------  -----         \n",
      " 0   memberId          2506 non-null   int64         \n",
      " 1   constituencyName  2506 non-null   object        \n",
      " 2   constituencyId    2506 non-null   int64         \n",
      " 3   startDate         2506 non-null   datetime64[ns]\n",
      "dtypes: datetime64[ns](1), int64(2), object(1)\n",
      "memory usage: 78.4+ KB\n"
     ]
    }
   ],
   "source": [
    "df.info()"
   ]
  },
  {
   "cell_type": "code",
   "execution_count": 6,
   "metadata": {},
   "outputs": [
    {
     "data": {
      "text/plain": [
       "True"
      ]
     },
     "execution_count": 6,
     "metadata": {},
     "output_type": "execute_result"
    }
   ],
   "source": [
    "#Save the file to S3\n",
    "import boto3\n",
    "import io\n",
    "\n",
    "def upload_df_to_s3(df, bucket, object_name):\n",
    "    \"\"\"\n",
    "    Upload a DataFrame to an S3 bucket as CSV.\n",
    "\n",
    "    :param df: DataFrame to upload\n",
    "    :param bucket: Bucket to upload to\n",
    "    :param object_name: S3 object name\n",
    "    :return: True if the DataFrame was uploaded, else False\n",
    "    \"\"\"\n",
    "    # Create a buffer\n",
    "    csv_buffer = io.StringIO()\n",
    "    df.to_csv(csv_buffer, index=False)\n",
    "\n",
    "    # Move to the start of the buffer\n",
    "    csv_buffer.seek(0)\n",
    "\n",
    "    # Upload the buffer content to S3\n",
    "    s3_client = boto3.client('s3')\n",
    "    try:\n",
    "        s3_client.put_object(Bucket=bucket, Key=object_name, Body=csv_buffer.getvalue())\n",
    "    except ClientError as e:\n",
    "        logging.error(e)\n",
    "        return False\n",
    "    return True\n",
    "\n",
    "bucket_name = 'myukdata'\n",
    "object_name = 'Preprocessing/Member/MemberElectionContested.csv'\n",
    "upload_df_to_s3(df, bucket_name, object_name)\n"
   ]
  }
 ],
 "metadata": {
  "kernelspec": {
   "display_name": "Python 3",
   "language": "python",
   "name": "python3"
  },
  "language_info": {
   "codemirror_mode": {
    "name": "ipython",
    "version": 3
   },
   "file_extension": ".py",
   "mimetype": "text/x-python",
   "name": "python",
   "nbconvert_exporter": "python",
   "pygments_lexer": "ipython3",
   "version": "3.11.1"
  }
 },
 "nbformat": 4,
 "nbformat_minor": 2
}
